{
 "cells": [
  {
   "cell_type": "markdown",
   "id": "a16acd16",
   "metadata": {},
   "source": [
    "<img src=\"https://www.vapulus.com/en/wp-content/uploads/2018/11/Qaiware-payment-magic-thegem-blog-default.jpg\" />\n",
    "\n",
    "This project was done to reconcile transactions of X company with its payments processor.\n",
    "\n",
    "The aim is to amongst other things identify the:\n",
    "- Proportion of transactions that were succesfully processed.\n",
    "- Instances of duplicate transactions which can lead to loss of fund.\n",
    "- Volume of transactions successfuly processed multiple times.\n",
    "- Total amount paid as fees for mulptiple payouts.\n",
    "- Total exposure of the company due to multiple payouts.\n",
    "\n",
    "DISCLAIMER: The data here is not any real company information. Instead, they have been created to mimic real company data for the sake of this project. We used a combination of [fake name generator](https://www.fakenamegenerator.com/order.php) and applicable pandas built-in functions to manipulate the names and other sensitive details such as amount, account numbers, bank name. "
   ]
  },
  {
   "cell_type": "markdown",
   "id": "b49193f5",
   "metadata": {},
   "source": [
    "### Import Libraries and Load Data"
   ]
  },
  {
   "cell_type": "code",
   "execution_count": 1,
   "id": "865c5e99",
   "metadata": {},
   "outputs": [],
   "source": [
    "#import python libraries\n",
    "import pandas as pd\n",
    "import numpy as np\n",
    "import matplotlib.pyplot as plt\n",
    "import warnings"
   ]
  },
  {
   "cell_type": "code",
   "execution_count": 2,
   "id": "48dfd8a5",
   "metadata": {},
   "outputs": [
    {
     "data": {
      "text/html": [
       "<div>\n",
       "<style scoped>\n",
       "    .dataframe tbody tr th:only-of-type {\n",
       "        vertical-align: middle;\n",
       "    }\n",
       "\n",
       "    .dataframe tbody tr th {\n",
       "        vertical-align: top;\n",
       "    }\n",
       "\n",
       "    .dataframe thead th {\n",
       "        text-align: right;\n",
       "    }\n",
       "</style>\n",
       "<table border=\"1\" class=\"dataframe\">\n",
       "  <thead>\n",
       "    <tr style=\"text-align: right;\">\n",
       "      <th></th>\n",
       "      <th>id</th>\n",
       "      <th>account_number</th>\n",
       "      <th>bank_code</th>\n",
       "      <th>fullname</th>\n",
       "      <th>date_created</th>\n",
       "      <th>currency</th>\n",
       "      <th>debit_currency</th>\n",
       "      <th>amount</th>\n",
       "      <th>fee</th>\n",
       "      <th>status</th>\n",
       "      <th>...</th>\n",
       "      <th>approver</th>\n",
       "      <th>complete_message</th>\n",
       "      <th>requires_approval</th>\n",
       "      <th>is_approved</th>\n",
       "      <th>bank_name</th>\n",
       "      <th>initiated_by</th>\n",
       "      <th>initiated_by_id</th>\n",
       "      <th>is_retry</th>\n",
       "      <th>can_retry</th>\n",
       "      <th>provider_ref</th>\n",
       "    </tr>\n",
       "  </thead>\n",
       "  <tbody>\n",
       "    <tr>\n",
       "      <th>0</th>\n",
       "      <td>28760651</td>\n",
       "      <td>61704726</td>\n",
       "      <td>70</td>\n",
       "      <td>OZONNA AUGUSTINE CHIBUZOR</td>\n",
       "      <td>2022-06-20T08:25:53.000Z</td>\n",
       "      <td>NGN</td>\n",
       "      <td>NaN</td>\n",
       "      <td>181875.0</td>\n",
       "      <td>53.750</td>\n",
       "      <td>SUCCESSFUL</td>\n",
       "      <td>...</td>\n",
       "      <td>NaN</td>\n",
       "      <td>Transaction was successful</td>\n",
       "      <td>0</td>\n",
       "      <td>1</td>\n",
       "      <td>VITA BANK PLC</td>\n",
       "      <td>NaN</td>\n",
       "      <td>NaN</td>\n",
       "      <td>False</td>\n",
       "      <td>False</td>\n",
       "      <td>451040429339</td>\n",
       "    </tr>\n",
       "    <tr>\n",
       "      <th>1</th>\n",
       "      <td>28757584</td>\n",
       "      <td>10163596</td>\n",
       "      <td>57</td>\n",
       "      <td>CHUBBYLINKX</td>\n",
       "      <td>2022-06-20T07:22:34.000Z</td>\n",
       "      <td>NGN</td>\n",
       "      <td>NaN</td>\n",
       "      <td>125000.0</td>\n",
       "      <td>26.875</td>\n",
       "      <td>SUCCESSFUL</td>\n",
       "      <td>...</td>\n",
       "      <td>NaN</td>\n",
       "      <td>Transaction was successful</td>\n",
       "      <td>0</td>\n",
       "      <td>1</td>\n",
       "      <td>TOPMOST BANK PLC</td>\n",
       "      <td>NaN</td>\n",
       "      <td>NaN</td>\n",
       "      <td>False</td>\n",
       "      <td>False</td>\n",
       "      <td>451040371929</td>\n",
       "    </tr>\n",
       "  </tbody>\n",
       "</table>\n",
       "<p>2 rows × 25 columns</p>\n",
       "</div>"
      ],
      "text/plain": [
       "         id  account_number  bank_code                   fullname  \\\n",
       "0  28760651        61704726         70  OZONNA AUGUSTINE CHIBUZOR   \n",
       "1  28757584        10163596         57               CHUBBYLINKX    \n",
       "\n",
       "               date_created currency debit_currency    amount     fee  \\\n",
       "0  2022-06-20T08:25:53.000Z      NGN            NaN  181875.0  53.750   \n",
       "1  2022-06-20T07:22:34.000Z      NGN            NaN  125000.0  26.875   \n",
       "\n",
       "       status  ... approver            complete_message requires_approval  \\\n",
       "0  SUCCESSFUL  ...      NaN  Transaction was successful                 0   \n",
       "1  SUCCESSFUL  ...      NaN  Transaction was successful                 0   \n",
       "\n",
       "   is_approved         bank_name  initiated_by initiated_by_id  is_retry  \\\n",
       "0            1     VITA BANK PLC           NaN             NaN     False   \n",
       "1            1  TOPMOST BANK PLC           NaN             NaN     False   \n",
       "\n",
       "   can_retry  provider_ref  \n",
       "0      False  451040429339  \n",
       "1      False  451040371929  \n",
       "\n",
       "[2 rows x 25 columns]"
      ]
     },
     "execution_count": 2,
     "metadata": {},
     "output_type": "execute_result"
    }
   ],
   "source": [
    "# load manipulated data from my pc\n",
    "\n",
    "df = pd.read_excel(r'C:\\Users\\user\\OneDrive\\Documents\\KaoshiNetworkData\\payments_data_audit.xlsx')\n",
    "\n",
    "df.head(2)"
   ]
  },
  {
   "cell_type": "code",
   "execution_count": 3,
   "id": "c224a356",
   "metadata": {},
   "outputs": [
    {
     "name": "stdout",
     "output_type": "stream",
     "text": [
      "<class 'pandas.core.frame.DataFrame'>\n",
      "RangeIndex: 8853 entries, 0 to 8852\n",
      "Data columns (total 25 columns):\n",
      " #   Column                    Non-Null Count  Dtype  \n",
      "---  ------                    --------------  -----  \n",
      " 0   id                        8853 non-null   int64  \n",
      " 1   account_number            8853 non-null   int64  \n",
      " 2   bank_code                 8853 non-null   int64  \n",
      " 3   fullname                  8853 non-null   object \n",
      " 4   date_created              8853 non-null   object \n",
      " 5   currency                  8853 non-null   object \n",
      " 6   debit_currency            138 non-null    object \n",
      " 7   amount                    8853 non-null   float64\n",
      " 8   fee                       8853 non-null   float64\n",
      " 9   status                    8853 non-null   object \n",
      " 10  reference                 8853 non-null   object \n",
      " 11  meta                      0 non-null      float64\n",
      " 12  narration                 8695 non-null   object \n",
      " 13  requester_business_name   0 non-null      float64\n",
      " 14  requester_contact_person  0 non-null      float64\n",
      " 15  approver                  0 non-null      float64\n",
      " 16  complete_message          8853 non-null   object \n",
      " 17  requires_approval         8853 non-null   int64  \n",
      " 18  is_approved               8853 non-null   int64  \n",
      " 19  bank_name                 8831 non-null   object \n",
      " 20  initiated_by              243 non-null    object \n",
      " 21  initiated_by_id           243 non-null    float64\n",
      " 22  is_retry                  8853 non-null   bool   \n",
      " 23  can_retry                 8853 non-null   bool   \n",
      " 24  provider_ref              8850 non-null   object \n",
      "dtypes: bool(2), float64(7), int64(5), object(11)\n",
      "memory usage: 1.6+ MB\n"
     ]
    }
   ],
   "source": [
    "#check the data types and missing values\n",
    "df.info()"
   ]
  },
  {
   "cell_type": "markdown",
   "id": "24741e9e",
   "metadata": {},
   "source": [
    "### Data Cleaning"
   ]
  },
  {
   "cell_type": "markdown",
   "id": "98563122",
   "metadata": {},
   "source": [
    "Let us divide the provided dataset into three based on their transaction `status` as follows:\n",
    "- dfs: succesful transactions\n",
    "- dff: failed transactions\n",
    "- dfp: pending transactions\n"
   ]
  },
  {
   "cell_type": "code",
   "execution_count": 4,
   "id": "89263502",
   "metadata": {},
   "outputs": [
    {
     "data": {
      "text/plain": [
       "SUCCESSFUL    6149\n",
       "FAILED        2702\n",
       "PENDING          2\n",
       "Name: status, dtype: int64"
      ]
     },
     "metadata": {},
     "output_type": "display_data"
    }
   ],
   "source": [
    "# let us check of the transactions\n",
    "display(df.status.value_counts())\n",
    "\n",
    "#divide the dataframe by status\n",
    "dfs = df.query('status ==\"SUCCESSFUL\"')\n",
    "dff = df.query('status ==\"FAILED\"')\n",
    "dfp = df.query('status ==\"PENDING\"')"
   ]
  },
  {
   "cell_type": "markdown",
   "id": "2c2dfd08",
   "metadata": {},
   "source": [
    "We dont need all the columns for this analysis; let us drop some columns.\n",
    "\n",
    "- Empty columns: `meta`, `requester_business_name`, `requester_contact_person`, `approver`.\n",
    "- Redundant columns: `currency` ,`debit_currency`, `bank_code`, `narration`, `initiated_by`, `initiated_by_id`, `provider_ref`."
   ]
  },
  {
   "cell_type": "code",
   "execution_count": 5,
   "id": "b47aab01",
   "metadata": {},
   "outputs": [],
   "source": [
    "#drop empty and unnneeded columns\n",
    "warnings.filterwarnings('ignore')\n",
    "\n",
    "dfs = (dfs.drop(columns = ['currency', 'debit_currency', 'meta', 'bank_code', 'requester_business_name', 'requester_contact_person',\n",
    "                 'complete_message', 'approver', 'requires_approval', 'is_approved', \n",
    "                'initiated_by', 'initiated_by_id', 'is_retry', 'narration', 'can_retry', 'provider_ref']))\n"
   ]
  },
  {
   "cell_type": "code",
   "execution_count": 6,
   "id": "4ec758f7",
   "metadata": {},
   "outputs": [
    {
     "data": {
      "text/html": [
       "<div>\n",
       "<style scoped>\n",
       "    .dataframe tbody tr th:only-of-type {\n",
       "        vertical-align: middle;\n",
       "    }\n",
       "\n",
       "    .dataframe tbody tr th {\n",
       "        vertical-align: top;\n",
       "    }\n",
       "\n",
       "    .dataframe thead th {\n",
       "        text-align: right;\n",
       "    }\n",
       "</style>\n",
       "<table border=\"1\" class=\"dataframe\">\n",
       "  <thead>\n",
       "    <tr style=\"text-align: right;\">\n",
       "      <th></th>\n",
       "      <th>id</th>\n",
       "      <th>account_number</th>\n",
       "      <th>fullname</th>\n",
       "      <th>date_created</th>\n",
       "      <th>amount</th>\n",
       "      <th>fee</th>\n",
       "      <th>status</th>\n",
       "      <th>reference</th>\n",
       "      <th>bank_name</th>\n",
       "    </tr>\n",
       "  </thead>\n",
       "  <tbody>\n",
       "    <tr>\n",
       "      <th>0</th>\n",
       "      <td>28760651</td>\n",
       "      <td>61704726</td>\n",
       "      <td>OZONNA AUGUSTINE CHIBUZOR</td>\n",
       "      <td>2022-06-20T08:25:53.000Z</td>\n",
       "      <td>181875.0</td>\n",
       "      <td>53.750</td>\n",
       "      <td>SUCCESSFUL</td>\n",
       "      <td>tx-4og31pvrd3</td>\n",
       "      <td>VITA BANK PLC</td>\n",
       "    </tr>\n",
       "    <tr>\n",
       "      <th>1</th>\n",
       "      <td>28757584</td>\n",
       "      <td>10163596</td>\n",
       "      <td>CHUBBYLINKX</td>\n",
       "      <td>2022-06-20T07:22:34.000Z</td>\n",
       "      <td>125000.0</td>\n",
       "      <td>26.875</td>\n",
       "      <td>SUCCESSFUL</td>\n",
       "      <td>tx-w2dq8nvwdp</td>\n",
       "      <td>TOPMOST BANK PLC</td>\n",
       "    </tr>\n",
       "    <tr>\n",
       "      <th>2</th>\n",
       "      <td>28751058</td>\n",
       "      <td>22271758</td>\n",
       "      <td>AISHA KELECHI UGWUEZUMBA</td>\n",
       "      <td>2022-06-20T04:17:02.000Z</td>\n",
       "      <td>72762.5</td>\n",
       "      <td>26.875</td>\n",
       "      <td>SUCCESSFUL</td>\n",
       "      <td>tx-z0grywypdx</td>\n",
       "      <td>JOINTED BANK FOR AFRICA PLC</td>\n",
       "    </tr>\n",
       "    <tr>\n",
       "      <th>3</th>\n",
       "      <td>28751046</td>\n",
       "      <td>21788220</td>\n",
       "      <td>CLINTON  OKORUKU</td>\n",
       "      <td>2022-06-20T04:16:35.000Z</td>\n",
       "      <td>250000.0</td>\n",
       "      <td>53.750</td>\n",
       "      <td>SUCCESSFUL</td>\n",
       "      <td>tx-02eypv91ek</td>\n",
       "      <td>JOINTED BANK FOR AFRICA PLC</td>\n",
       "    </tr>\n",
       "    <tr>\n",
       "      <th>4</th>\n",
       "      <td>28748382</td>\n",
       "      <td>31066616</td>\n",
       "      <td>DIBIA INNOCENT</td>\n",
       "      <td>2022-06-20T00:58:41.000Z</td>\n",
       "      <td>72762.5</td>\n",
       "      <td>26.875</td>\n",
       "      <td>SUCCESSFUL</td>\n",
       "      <td>tx-w2dq8n8wdp</td>\n",
       "      <td>PRIME BANK PLC</td>\n",
       "    </tr>\n",
       "  </tbody>\n",
       "</table>\n",
       "</div>"
      ],
      "text/plain": [
       "         id  account_number                   fullname  \\\n",
       "0  28760651        61704726  OZONNA AUGUSTINE CHIBUZOR   \n",
       "1  28757584        10163596               CHUBBYLINKX    \n",
       "2  28751058        22271758   AISHA KELECHI UGWUEZUMBA   \n",
       "3  28751046        21788220           CLINTON  OKORUKU   \n",
       "4  28748382        31066616             DIBIA INNOCENT   \n",
       "\n",
       "               date_created    amount     fee      status      reference  \\\n",
       "0  2022-06-20T08:25:53.000Z  181875.0  53.750  SUCCESSFUL  tx-4og31pvrd3   \n",
       "1  2022-06-20T07:22:34.000Z  125000.0  26.875  SUCCESSFUL  tx-w2dq8nvwdp   \n",
       "2  2022-06-20T04:17:02.000Z   72762.5  26.875  SUCCESSFUL  tx-z0grywypdx   \n",
       "3  2022-06-20T04:16:35.000Z  250000.0  53.750  SUCCESSFUL  tx-02eypv91ek   \n",
       "4  2022-06-20T00:58:41.000Z   72762.5  26.875  SUCCESSFUL  tx-w2dq8n8wdp   \n",
       "\n",
       "                     bank_name  \n",
       "0                VITA BANK PLC  \n",
       "1             TOPMOST BANK PLC  \n",
       "2  JOINTED BANK FOR AFRICA PLC  \n",
       "3  JOINTED BANK FOR AFRICA PLC  \n",
       "4               PRIME BANK PLC  "
      ]
     },
     "execution_count": 6,
     "metadata": {},
     "output_type": "execute_result"
    }
   ],
   "source": [
    "dfs.head()"
   ]
  },
  {
   "cell_type": "markdown",
   "id": "0f78aa76",
   "metadata": {},
   "source": [
    "Let us check for null values in the updated dataframe and drop rows with null values in `bank_name` and `provider_ref` columns."
   ]
  },
  {
   "cell_type": "code",
   "execution_count": 7,
   "id": "e2496210",
   "metadata": {},
   "outputs": [
    {
     "data": {
      "text/plain": [
       "id                0\n",
       "account_number    0\n",
       "fullname          0\n",
       "date_created      0\n",
       "amount            0\n",
       "fee               0\n",
       "status            0\n",
       "reference         0\n",
       "bank_name         0\n",
       "dtype: int64"
      ]
     },
     "execution_count": 7,
     "metadata": {},
     "output_type": "execute_result"
    }
   ],
   "source": [
    "#number of empty data cells in different columns\n",
    "dfs.isnull().sum()"
   ]
  },
  {
   "cell_type": "code",
   "execution_count": 8,
   "id": "c147c4df",
   "metadata": {},
   "outputs": [
    {
     "data": {
      "text/html": [
       "<div>\n",
       "<style scoped>\n",
       "    .dataframe tbody tr th:only-of-type {\n",
       "        vertical-align: middle;\n",
       "    }\n",
       "\n",
       "    .dataframe tbody tr th {\n",
       "        vertical-align: top;\n",
       "    }\n",
       "\n",
       "    .dataframe thead th {\n",
       "        text-align: right;\n",
       "    }\n",
       "</style>\n",
       "<table border=\"1\" class=\"dataframe\">\n",
       "  <thead>\n",
       "    <tr style=\"text-align: right;\">\n",
       "      <th></th>\n",
       "      <th>id</th>\n",
       "      <th>account_number</th>\n",
       "      <th>amount</th>\n",
       "      <th>fee</th>\n",
       "    </tr>\n",
       "  </thead>\n",
       "  <tbody>\n",
       "    <tr>\n",
       "      <th>count</th>\n",
       "      <td>6.149000e+03</td>\n",
       "      <td>6.149000e+03</td>\n",
       "      <td>6.149000e+03</td>\n",
       "      <td>6149.000000</td>\n",
       "    </tr>\n",
       "    <tr>\n",
       "      <th>mean</th>\n",
       "      <td>2.415906e+07</td>\n",
       "      <td>1.499060e+07</td>\n",
       "      <td>5.574472e+05</td>\n",
       "      <td>48.274476</td>\n",
       "    </tr>\n",
       "    <tr>\n",
       "      <th>std</th>\n",
       "      <td>3.023791e+06</td>\n",
       "      <td>1.873784e+07</td>\n",
       "      <td>5.460008e+05</td>\n",
       "      <td>11.047261</td>\n",
       "    </tr>\n",
       "    <tr>\n",
       "      <th>min</th>\n",
       "      <td>1.862384e+07</td>\n",
       "      <td>5.057000e+03</td>\n",
       "      <td>1.282500e+03</td>\n",
       "      <td>10.750000</td>\n",
       "    </tr>\n",
       "    <tr>\n",
       "      <th>25%</th>\n",
       "      <td>2.145016e+07</td>\n",
       "      <td>1.052096e+06</td>\n",
       "      <td>1.400500e+05</td>\n",
       "      <td>53.750000</td>\n",
       "    </tr>\n",
       "    <tr>\n",
       "      <th>50%</th>\n",
       "      <td>2.455343e+07</td>\n",
       "      <td>7.193937e+06</td>\n",
       "      <td>2.930000e+05</td>\n",
       "      <td>53.750000</td>\n",
       "    </tr>\n",
       "    <tr>\n",
       "      <th>75%</th>\n",
       "      <td>2.688678e+07</td>\n",
       "      <td>2.177834e+07</td>\n",
       "      <td>8.437500e+05</td>\n",
       "      <td>53.750000</td>\n",
       "    </tr>\n",
       "    <tr>\n",
       "      <th>max</th>\n",
       "      <td>2.876065e+07</td>\n",
       "      <td>9.302858e+07</td>\n",
       "      <td>2.500000e+06</td>\n",
       "      <td>53.750000</td>\n",
       "    </tr>\n",
       "  </tbody>\n",
       "</table>\n",
       "</div>"
      ],
      "text/plain": [
       "                 id  account_number        amount          fee\n",
       "count  6.149000e+03    6.149000e+03  6.149000e+03  6149.000000\n",
       "mean   2.415906e+07    1.499060e+07  5.574472e+05    48.274476\n",
       "std    3.023791e+06    1.873784e+07  5.460008e+05    11.047261\n",
       "min    1.862384e+07    5.057000e+03  1.282500e+03    10.750000\n",
       "25%    2.145016e+07    1.052096e+06  1.400500e+05    53.750000\n",
       "50%    2.455343e+07    7.193937e+06  2.930000e+05    53.750000\n",
       "75%    2.688678e+07    2.177834e+07  8.437500e+05    53.750000\n",
       "max    2.876065e+07    9.302858e+07  2.500000e+06    53.750000"
      ]
     },
     "execution_count": 8,
     "metadata": {},
     "output_type": "execute_result"
    }
   ],
   "source": [
    "#let us check data statistics\n",
    "dfs.describe()"
   ]
  },
  {
   "cell_type": "markdown",
   "id": "c0f9b5d3",
   "metadata": {},
   "source": [
    "The `id`, `reference` and `provider_ref` columns each has 6149 unique values,"
   ]
  },
  {
   "cell_type": "code",
   "execution_count": 9,
   "id": "f6b36e2f",
   "metadata": {},
   "outputs": [
    {
     "data": {
      "text/plain": [
       "id                6149\n",
       "account_number    1652\n",
       "fullname          1629\n",
       "date_created      6138\n",
       "amount            2047\n",
       "fee                  3\n",
       "status               1\n",
       "reference         6149\n",
       "bank_name           21\n",
       "dtype: int64"
      ]
     },
     "execution_count": 9,
     "metadata": {},
     "output_type": "execute_result"
    }
   ],
   "source": [
    "#check the number of unique elements in each of columns\n",
    "dfs.nunique()"
   ]
  },
  {
   "cell_type": "markdown",
   "id": "9c1e6afa",
   "metadata": {},
   "source": [
    "There are no columns with duplicate values. At this point, it looks like there are no multpile payouts. We will deepdive into the `id` and `reference` columns for possible duplicates."
   ]
  },
  {
   "cell_type": "code",
   "execution_count": 12,
   "id": "1c271c7a",
   "metadata": {},
   "outputs": [
    {
     "data": {
      "text/html": [
       "<div>\n",
       "<style scoped>\n",
       "    .dataframe tbody tr th:only-of-type {\n",
       "        vertical-align: middle;\n",
       "    }\n",
       "\n",
       "    .dataframe tbody tr th {\n",
       "        vertical-align: top;\n",
       "    }\n",
       "\n",
       "    .dataframe thead th {\n",
       "        text-align: right;\n",
       "    }\n",
       "</style>\n",
       "<table border=\"1\" class=\"dataframe\">\n",
       "  <thead>\n",
       "    <tr style=\"text-align: right;\">\n",
       "      <th></th>\n",
       "      <th>id</th>\n",
       "      <th>account_number</th>\n",
       "      <th>fullname</th>\n",
       "      <th>date_created</th>\n",
       "      <th>amount</th>\n",
       "      <th>fee</th>\n",
       "      <th>status</th>\n",
       "      <th>reference</th>\n",
       "      <th>bank_name</th>\n",
       "    </tr>\n",
       "  </thead>\n",
       "  <tbody>\n",
       "  </tbody>\n",
       "</table>\n",
       "</div>"
      ],
      "text/plain": [
       "Empty DataFrame\n",
       "Columns: [id, account_number, fullname, date_created, amount, fee, status, reference, bank_name]\n",
       "Index: []"
      ]
     },
     "execution_count": 12,
     "metadata": {},
     "output_type": "execute_result"
    }
   ],
   "source": [
    "#check columns with duplicates\n",
    "dfs.loc[dfs.duplicated(), :]"
   ]
  },
  {
   "cell_type": "code",
   "execution_count": 13,
   "id": "2c52c8df",
   "metadata": {},
   "outputs": [
    {
     "name": "stdout",
     "output_type": "stream",
     "text": [
      "duplicates in id column: 0\n",
      "duplicates in reference column: 0\n"
     ]
    }
   ],
   "source": [
    "#duplicates in id column\n",
    "print('duplicates in id column:', dfs.id.duplicated().sum())\n",
    "\n",
    "#duplicates in reference column\n",
    "print('duplicates in reference column:', dfs.reference.duplicated().sum())"
   ]
  },
  {
   "cell_type": "markdown",
   "id": "40d5326d",
   "metadata": {},
   "source": [
    "The possible unique identifier columns are `id` and `reference`. Let us assess more closely."
   ]
  },
  {
   "cell_type": "code",
   "execution_count": 14,
   "id": "fa9f3eef",
   "metadata": {},
   "outputs": [
    {
     "data": {
      "text/plain": [
       "8238    19606929\n",
       "7449    20354140\n",
       "6979    20933333\n",
       "8527    19160709\n",
       "1982    26779376\n",
       "8622    18990399\n",
       "7992    19990577\n",
       "6070    22581169\n",
       "1663    27082542\n",
       "4432    25156991\n",
       "Name: id, dtype: int64"
      ]
     },
     "execution_count": 14,
     "metadata": {},
     "output_type": "execute_result"
    }
   ],
   "source": [
    "#id columns value are purely integers\n",
    "dfs.id.sample(10)"
   ]
  },
  {
   "cell_type": "markdown",
   "id": "e928258d",
   "metadata": {},
   "source": [
    "We can see below that we can extract a unique identifier from the `reference` column by removing the prefix *tx* and suffixes."
   ]
  },
  {
   "cell_type": "code",
   "execution_count": 15,
   "id": "31695931",
   "metadata": {},
   "outputs": [
    {
     "data": {
      "text/plain": [
       "2060            tx-oldw897kdz\n",
       "427             tx-z0gr458odx\n",
       "5539            tx-4og39jrrg3\n",
       "4645            tx-w9glnnwze2\n",
       "6566            tx-48epw42qg5\n",
       "2009    tx-l8emz2v8gk_REFUND1\n",
       "7313            tx-lmdzkpmmdk\n",
       "2079            tx-poe7kmp7g0\n",
       "1375            tx-57dk2119dw\n",
       "6086            tx-w2dq7rj3gp\n",
       "Name: reference, dtype: object"
      ]
     },
     "execution_count": 15,
     "metadata": {},
     "output_type": "execute_result"
    }
   ],
   "source": [
    "#reference column values has prefix 'tx' and some suffices eg. '_3', '_8'\n",
    "dfs.reference.sample(10)"
   ]
  },
  {
   "cell_type": "code",
   "execution_count": 25,
   "id": "084686a6",
   "metadata": {},
   "outputs": [
    {
     "name": "stdout",
     "output_type": "stream",
     "text": [
      "Total succesful transactions: 6149\n",
      "Total unique transactions: 6129\n",
      "Duplicated (excess) transactions: 20\n"
     ]
    }
   ],
   "source": [
    "#define function to extract unique identifier\n",
    "warnings.filterwarnings('ignore')\n",
    "\n",
    "def clean_ref(data):\n",
    "    data = data.split('-')[1]\n",
    "    data = data.split('_')[0]\n",
    "    return data\n",
    "\n",
    "dfs['unique_id'] = dfs['reference'].apply(clean_ref)\n",
    "\n",
    "print('Total succesful transactions:', dfs.reference.nunique())\n",
    "print('Total unique transactions:', dfs.unique_id.nunique())\n",
    "print('Duplicated (excess) transactions:', dfs[dfs.duplicated('unique_id')].shape[0])"
   ]
  },
  {
   "cell_type": "markdown",
   "id": "fbcaeb92",
   "metadata": {},
   "source": [
    "Let us divided the succesful transaction dataframe into two:\n",
    "- dfs_dupl: transactions that are duplicated.\n",
    "- dfs_singl: transactions that are not duplicated."
   ]
  },
  {
   "cell_type": "code",
   "execution_count": 26,
   "id": "17dcbd90",
   "metadata": {},
   "outputs": [],
   "source": [
    "a = dfs.unique_id.value_counts()\n",
    "\n",
    "#duplicated transactions\n",
    "df_dupl = dfs[(dfs.unique_id.isin(a[a > 1].index))].sort_values('unique_id')\n",
    "\n",
    "#non duplicated transactions\n",
    "df_singl = dfs[~(dfs.unique_id.isin(a.index[a.gt(1)]))]"
   ]
  },
  {
   "cell_type": "markdown",
   "id": "8923ad0c",
   "metadata": {},
   "source": [
    "Let us have a quick preview of the duplicated transactions paying attention to the `fullname`, `amount`, `bank_name` and `date`. \n",
    "We now do a value counts on the `fullname` columns to see where a particular name appears more than once; and separate them from instances where the name appeared only once in the duplicated transactions dataframe *df_dupl*."
   ]
  },
  {
   "cell_type": "code",
   "execution_count": 27,
   "id": "dcb9d677",
   "metadata": {},
   "outputs": [
    {
     "data": {
      "text/plain": [
       "(23, 10)"
      ]
     },
     "execution_count": 27,
     "metadata": {},
     "output_type": "execute_result"
    }
   ],
   "source": [
    "#check columns with duplicated fullname and unique_id\n",
    "\n",
    "#duplicated names\n",
    "v = df_dupl.fullname.value_counts()\n",
    "df_dpay = df_dupl[df_dupl.fullname.isin(v[v > 1].index)]\n",
    "\n",
    "#duplicated unique_id when name is duplicated\n",
    "x = df_dpay.unique_id.value_counts()\n",
    "df_dpay = df_dpay[df_dpay.unique_id.isin(x[x > 1].index)]\n",
    "\n",
    "df_dpay.shape"
   ]
  },
  {
   "cell_type": "markdown",
   "id": "21c14d5c",
   "metadata": {},
   "source": [
    "What we did to clean up the data:\n",
    "- Explored the data for datatypes and completeness with `df.info()`.\n",
    "- Dropped columns with missing data.\n",
    "- Dropped columns that are not needed for th analysis.\n",
    "- Extracted the unique identifier from the the `reference` column.\n",
    "- Evaluated instances where `unique_id` occurs more than once.\n",
    "- Sorted out when the `fullname` and `unique_id` are same and occurs more than once in the dataframe."
   ]
  },
  {
   "cell_type": "markdown",
   "id": "b3e0105e",
   "metadata": {},
   "source": [
    "### Exploratory Data Analysis"
   ]
  },
  {
   "cell_type": "markdown",
   "id": "c1ecf88c",
   "metadata": {},
   "source": [
    "Only about **70%** of the provided data are successful transactions."
   ]
  },
  {
   "cell_type": "code",
   "execution_count": 28,
   "id": "2671e2e2",
   "metadata": {},
   "outputs": [
    {
     "data": {
      "image/png": "[encoded data removed]",
      "text/plain": [
       "<Figure size 432x288 with 1 Axes>"
      ]
     },
     "metadata": {},
     "output_type": "display_data"
    }
   ],
   "source": [
    "#proportion of the original dataset by transaction status\n",
    "\n",
    "df.status.value_counts().plot(kind ='pie', autopct='%1.1f%%')\n",
    "plt.ylabel('')\n",
    "plt.show()"
   ]
  },
  {
   "cell_type": "markdown",
   "id": "dde6d5d4",
   "metadata": {},
   "source": [
    "Proportion of the successful transactions that are duplicated.\n",
    "- Duplicated successful transactions are instances where two different or similar transactions were processed with same `unique_id`. Two possiblities are (1) double payouts which is a potential loss and (2) split transaction where two beneficiaries share the sum amount of a unit transaction (no loss).\n",
    "- Double payout occurs when a particular transaction is successfully processed twice in favour of same beneficuiary and for the same amount. This leads to loss of money."
   ]
  },
  {
   "cell_type": "code",
   "execution_count": 29,
   "id": "0e704048",
   "metadata": {},
   "outputs": [
    {
     "name": "stdout",
     "output_type": "stream",
     "text": [
      "Total of 6149 successful transactions.\n",
      "Total of 6110 non-duplicated successful transactions.\n",
      "Total of 39 duplicated successful transactions.\n",
      "Total of 19 unique successful transactions that were duplicated.\n",
      "Only 0.63% succesful transactions were duplicated.\n",
      "Total of 23 double payouts.\n"
     ]
    }
   ],
   "source": [
    "print('Total of {} successful transactions.'.format(dfs.shape[0]))\n",
    "print('Total of {} non-duplicated successful transactions.'.format(df_singl.shape[0]))\n",
    "print('Total of {} duplicated successful transactions.'.format(df_dupl.shape[0]))\n",
    "print('Total of {} unique successful transactions that were duplicated.'.format(df_dupl.unique_id.nunique()))\n",
    "print('Only {}% succesful transactions were duplicated.'.format(round((df_dupl.shape[0]/dfs.shape[0])*100, 2)))\n",
    "print('Total of {} double payouts.'.format(df_dpay.shape[0]))"
   ]
  },
  {
   "cell_type": "markdown",
   "id": "eb213591",
   "metadata": {},
   "source": [
    "Total volume and fees for the double payouts.\n",
    "\n",
    "We first extract the duplicated rows using the `dataframe.duplicated()` function by `unique_id`.\n",
    "Then we sum the `amount` and the `fee` to get the risk exposure due to double payout."
   ]
  },
  {
   "cell_type": "code",
   "execution_count": 30,
   "id": "c4daa502",
   "metadata": {},
   "outputs": [
    {
     "data": {
      "text/html": [
       "<div>\n",
       "<style scoped>\n",
       "    .dataframe tbody tr th:only-of-type {\n",
       "        vertical-align: middle;\n",
       "    }\n",
       "\n",
       "    .dataframe tbody tr th {\n",
       "        vertical-align: top;\n",
       "    }\n",
       "\n",
       "    .dataframe thead th {\n",
       "        text-align: right;\n",
       "    }\n",
       "</style>\n",
       "<table border=\"1\" class=\"dataframe\">\n",
       "  <thead>\n",
       "    <tr style=\"text-align: right;\">\n",
       "      <th></th>\n",
       "      <th>id</th>\n",
       "      <th>account_number</th>\n",
       "      <th>fullname</th>\n",
       "      <th>date_created</th>\n",
       "      <th>amount</th>\n",
       "      <th>fee</th>\n",
       "      <th>status</th>\n",
       "      <th>reference</th>\n",
       "      <th>bank_name</th>\n",
       "      <th>unique_id</th>\n",
       "    </tr>\n",
       "  </thead>\n",
       "  <tbody>\n",
       "    <tr>\n",
       "      <th>585</th>\n",
       "      <td>28074959</td>\n",
       "      <td>78207359</td>\n",
       "      <td>Ogechukwu Ikwelle</td>\n",
       "      <td>2022-06-07T09:58:08.000Z</td>\n",
       "      <td>17270.0</td>\n",
       "      <td>26.875</td>\n",
       "      <td>SUCCESSFUL</td>\n",
       "      <td>tx-48ep8v0qg5_2</td>\n",
       "      <td>BETA BANK PLC</td>\n",
       "      <td>48ep8v0qg5</td>\n",
       "    </tr>\n",
       "    <tr>\n",
       "      <th>3892</th>\n",
       "      <td>26040009</td>\n",
       "      <td>306567</td>\n",
       "      <td>BELLO, HAFIZ ADEBARI</td>\n",
       "      <td>2022-04-26T09:02:42.000Z</td>\n",
       "      <td>1437500.0</td>\n",
       "      <td>53.750</td>\n",
       "      <td>SUCCESSFUL</td>\n",
       "      <td>tx-75dn9xokek_3</td>\n",
       "      <td>ATBANK PLC</td>\n",
       "      <td>75dn9xokek</td>\n",
       "    </tr>\n",
       "    <tr>\n",
       "      <th>7694</th>\n",
       "      <td>20222500</td>\n",
       "      <td>12337801</td>\n",
       "      <td>caroline ADABUZO nmerem</td>\n",
       "      <td>2022-01-31T14:30:25.000Z</td>\n",
       "      <td>250000.0</td>\n",
       "      <td>53.750</td>\n",
       "      <td>SUCCESSFUL</td>\n",
       "      <td>tx-75dnko5kdk_3_RETRY_1</td>\n",
       "      <td>ASSET BANK NIGERIA</td>\n",
       "      <td>75dnko5kdk</td>\n",
       "    </tr>\n",
       "    <tr>\n",
       "      <th>6822</th>\n",
       "      <td>21274146</td>\n",
       "      <td>11017063</td>\n",
       "      <td>SEUN OPEYEMI TAOFEEK</td>\n",
       "      <td>2022-02-16T16:04:31.000Z</td>\n",
       "      <td>411750.0</td>\n",
       "      <td>53.750</td>\n",
       "      <td>SUCCESSFUL</td>\n",
       "      <td>tx-l3e41ynoev_3</td>\n",
       "      <td>SUGA</td>\n",
       "      <td>l3e41ynoev</td>\n",
       "    </tr>\n",
       "    <tr>\n",
       "      <th>3529</th>\n",
       "      <td>26302211</td>\n",
       "      <td>555840</td>\n",
       "      <td>RAJI MONSURAT</td>\n",
       "      <td>2022-04-30T12:13:23.000Z</td>\n",
       "      <td>142500.0</td>\n",
       "      <td>53.750</td>\n",
       "      <td>SUCCESSFUL</td>\n",
       "      <td>tx-l3e4xn5odv_8</td>\n",
       "      <td>ASSET BANK NIGERIA</td>\n",
       "      <td>l3e4xn5odv</td>\n",
       "    </tr>\n",
       "  </tbody>\n",
       "</table>\n",
       "</div>"
      ],
      "text/plain": [
       "            id  account_number                 fullname  \\\n",
       "585   28074959        78207359        Ogechukwu Ikwelle   \n",
       "3892  26040009          306567     BELLO, HAFIZ ADEBARI   \n",
       "7694  20222500        12337801  caroline ADABUZO nmerem   \n",
       "6822  21274146        11017063     SEUN OPEYEMI TAOFEEK   \n",
       "3529  26302211          555840            RAJI MONSURAT   \n",
       "\n",
       "                  date_created     amount     fee      status  \\\n",
       "585   2022-06-07T09:58:08.000Z    17270.0  26.875  SUCCESSFUL   \n",
       "3892  2022-04-26T09:02:42.000Z  1437500.0  53.750  SUCCESSFUL   \n",
       "7694  2022-01-31T14:30:25.000Z   250000.0  53.750  SUCCESSFUL   \n",
       "6822  2022-02-16T16:04:31.000Z   411750.0  53.750  SUCCESSFUL   \n",
       "3529  2022-04-30T12:13:23.000Z   142500.0  53.750  SUCCESSFUL   \n",
       "\n",
       "                    reference           bank_name   unique_id  \n",
       "585           tx-48ep8v0qg5_2       BETA BANK PLC  48ep8v0qg5  \n",
       "3892          tx-75dn9xokek_3          ATBANK PLC  75dn9xokek  \n",
       "7694  tx-75dnko5kdk_3_RETRY_1  ASSET BANK NIGERIA  75dnko5kdk  \n",
       "6822          tx-l3e41ynoev_3                SUGA  l3e41ynoev  \n",
       "3529          tx-l3e4xn5odv_8  ASSET BANK NIGERIA  l3e4xn5odv  "
      ]
     },
     "execution_count": 30,
     "metadata": {},
     "output_type": "execute_result"
    }
   ],
   "source": [
    "#five rows of the duplicates\n",
    "df_dpay[df_dpay.duplicated('unique_id')].head()"
   ]
  },
  {
   "cell_type": "code",
   "execution_count": 31,
   "id": "00271d76",
   "metadata": {},
   "outputs": [
    {
     "name": "stdout",
     "output_type": "stream",
     "text": [
      "Total amount deu to mulptiple payout 8484745.0\n"
     ]
    }
   ],
   "source": [
    "print('Total amount deu to mulptiple payout',df_dpay[df_dpay.duplicated('unique_id')]['amount'].sum())"
   ]
  },
  {
   "cell_type": "code",
   "execution_count": 32,
   "id": "3ac20435",
   "metadata": {},
   "outputs": [
    {
     "name": "stdout",
     "output_type": "stream",
     "text": [
      "Total fee due to mulptiple payout 618.125\n"
     ]
    }
   ],
   "source": [
    "print('Total fee due to mulptiple payout',df_dpay[df_dpay.duplicated('unique_id')]['fee'].sum())"
   ]
  },
  {
   "cell_type": "markdown",
   "id": "5d31dfae",
   "metadata": {},
   "source": [
    "The company is potentially losing N8,485,363.12 to double payments and the application transfer fees."
   ]
  },
  {
   "cell_type": "code",
   "execution_count": 33,
   "id": "5949cda0",
   "metadata": {},
   "outputs": [
    {
     "name": "stdout",
     "output_type": "stream",
     "text": [
      "Excess paid out including processing fee N 8485363.12\n"
     ]
    }
   ],
   "source": [
    "#sum of duplicated amount and fee\n",
    "abd = round((df_dpay[df_dpay.duplicated('unique_id')]['amount'].sum() + df_dpay[df_dpay.duplicated('unique_id')]['fee'].sum()), 2)\n",
    "\n",
    "print('Excess paid out including processing fee N',abd)"
   ]
  },
  {
   "cell_type": "markdown",
   "id": "3c45efd0",
   "metadata": {},
   "source": [
    "### Export data as excel file"
   ]
  },
  {
   "cell_type": "code",
   "execution_count": 34,
   "id": "f771a2e9",
   "metadata": {},
   "outputs": [],
   "source": [
    "#df_dpay.to_excel(r'C:\\Users\\user\\OneDrive\\Documents\\KaoshiNetworkData\\multiple_payout_data.xlsx', index = False)"
   ]
  }
 ],
 "metadata": {
  "kernelspec": {
   "display_name": "Python 3",
   "language": "python",
   "name": "python3"
  },
  "language_info": {
   "codemirror_mode": {
    "name": "ipython",
    "version": 3
   },
   "file_extension": ".py",
   "mimetype": "text/x-python",
   "name": "python",
   "nbconvert_exporter": "python",
   "pygments_lexer": "ipython3",
   "version": "3.8.8"
  }
 },
 "nbformat": 4,
 "nbformat_minor": 5
}
